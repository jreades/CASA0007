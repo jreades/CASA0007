{
  "cells": [
    {
      "cell_type": "markdown",
      "metadata": {},
      "source": [
        "<div style=\"float:left\">\n",
        "            <h1 style=\"width:450px\">CASA0007 Practical 5: Hypothesis Testing</h1>\n",
        "</div>\n",
        "<div style=\"float:right\"><img width=\"100\" src=\"https://github.com/jreades/i2p/raw/master/img/casa_logo.jpg\" /></div>"
      ]
    },
    {
      "cell_type": "markdown",
      "metadata": {},
      "source": [
        "## Welcome!\n",
        "\n",
        "In this practical, we will apply the hypothesis testing techniques to the schools dataset.\n",
        "\n",
        "- Mean comparison test;\n",
        "- KS distribution test;"
      ]
    },
    {
      "cell_type": "code",
      "execution_count": 1,
      "metadata": {
        "colab": {
          "base_uri": "https://localhost:8080/",
          "height": 72,
          "resources": {
            "http://localhost:8080/nbextensions/google.colab/files.js": {
              "data": "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",
              "headers": [
                [
                  "content-type",
                  "application/javascript"
                ]
              ],
              "ok": true,
              "status": 200,
              "status_text": ""
            }
          }
        },
        "collapsed": true,
        "id": "UWPn9c9ADlZW",
        "outputId": "ffab5ac5-a80e-422e-fd90-836fe15dfb59"
      },
      "outputs": [],
      "source": [
        "# import relevant packages\n",
        "\n",
        "import numpy as np\n",
        "import scipy.stats as sps\n",
        "import pandas as pd\n",
        "import matplotlib.pyplot as plt\n",
        "\n",
        "%matplotlib inline"
      ]
    },
    {
      "cell_type": "markdown",
      "metadata": {},
      "source": [
        "## Background \n",
        "\n",
        "Each schools trus tin the UK has to publish students performance. \n",
        "The variable 'PTL2BASICS_95_WGTAVG' represents the % of pupils at the end of KS4 achieving strong 9-5 passes in both English and mathematics GCSEs as a weighted average. "
      ]
    },
    {
      "cell_type": "code",
      "execution_count": null,
      "metadata": {},
      "outputs": [],
      "source": [
        "# Load the data \n",
        "data = pd.read_csv(f'/Users/bea/Documents/Teaching/CASA007/nbs_practicals/england_ks4-mats-performance.csv', encoding=\"latin1\")\n",
        "data = data[['TRUST_NAME', 'TRUST_LEADREGION', 'PTL2BASICS_95_WGTAVG']]"
      ]
    },
    {
      "cell_type": "code",
      "execution_count": null,
      "metadata": {},
      "outputs": [],
      "source": [
        "data = data[['TRUST_NAME', 'TRUST_LEADREGION', 'PTL2BASICS_95_WGTAVG']]\n",
        "\n",
        "# Define the regions \n",
        "south = ['South East', 'South West', 'London', 'East of England']\n",
        "north = ['North East', 'North West', 'Yorkshire and The Humber', 'West Midlands', 'East Midlands']"
      ]
    },
    {
      "cell_type": "code",
      "execution_count": 18,
      "metadata": {},
      "outputs": [],
      "source": [
        "# format the datatype as float converted from string \n",
        "\n",
        "data['PTL2BASICS_95_WGTAVG'] = data['PTL2BASICS_95_WGTAVG'].str.replace('%', '')\n",
        "data['PTL2BASICS_95_WGTAVG'] = data['PTL2BASICS_95_WGTAVG'].str.replace(',', '')\n",
        "data['PTL2BASICS_95_WGTAVG'] = data['PTL2BASICS_95_WGTAVG'].str.strip()\n",
        "data['PTL2BASICS_95_WGTAVG'] = data['PTL2BASICS_95_WGTAVG'].replace('', np.nan)\n",
        "data['PTL2BASICS_95_WGTAVG'] = data['PTL2BASICS_95_WGTAVG'].replace('N/A', np.nan)\n",
        "\n",
        "data['PTL2BASICS_95_WGTAVG'] = data['PTL2BASICS_95_WGTAVG'].astype(float)"
      ]
    },
    {
      "cell_type": "code",
      "execution_count": 19,
      "metadata": {},
      "outputs": [],
      "source": [
        "# For convenience store each sample seperately\n",
        "data_south = data[data['TRUST_LEADREGION'].isin(south)]['PTL2BASICS_95_WGTAVG']\n",
        "data_north = data[data['TRUST_LEADREGION'].isin(north)]['PTL2BASICS_95_WGTAVG']"
      ]
    },
    {
      "cell_type": "code",
      "execution_count": 23,
      "metadata": {},
      "outputs": [
        {
          "name": "stdout",
          "output_type": "stream",
          "text": [
            "South Region Data Summary:\n"
          ]
        },
        {
          "data": {
            "text/plain": [
              "count    97.000000\n",
              "mean     45.350515\n",
              "std      11.456477\n",
              "min      12.000000\n",
              "25%      38.000000\n",
              "50%      45.000000\n",
              "75%      51.000000\n",
              "max      83.000000\n",
              "Name: PTL2BASICS_95_WGTAVG, dtype: float64"
            ]
          },
          "execution_count": 23,
          "metadata": {},
          "output_type": "execute_result"
        }
      ],
      "source": [
        "# Print some summary information \n",
        "\n",
        "print(\"South Region Data Summary:\")\n",
        "data_south.describe()"
      ]
    },
    {
      "cell_type": "code",
      "execution_count": 22,
      "metadata": {},
      "outputs": [
        {
          "name": "stdout",
          "output_type": "stream",
          "text": [
            "North Region Data Summary:\n"
          ]
        },
        {
          "data": {
            "text/plain": [
              "count    91.000000\n",
              "mean     41.010989\n",
              "std       9.543461\n",
              "min      25.000000\n",
              "25%      33.000000\n",
              "50%      41.000000\n",
              "75%      46.500000\n",
              "max      80.000000\n",
              "Name: PTL2BASICS_95_WGTAVG, dtype: float64"
            ]
          },
          "execution_count": 22,
          "metadata": {},
          "output_type": "execute_result"
        }
      ],
      "source": [
        "# Print some summary information \n",
        "\n",
        "print(\"North Region Data Summary:\")\n",
        "data_north.describe()"
      ]
    },
    {
      "cell_type": "code",
      "execution_count": 24,
      "metadata": {},
      "outputs": [],
      "source": [
        "# Store some useful values\n",
        "\n",
        "min1 = data_south.min()\n",
        "min2 = data_north.min()\n",
        "\n",
        "max1 = data_south.max()\n",
        "max2 = data_north.max()\n",
        "\n",
        "mean1 = data_south.mean()\n",
        "mean2 = data_north.mean()\n",
        "\n",
        "std1 = data_south.std()\n",
        "std2 = data_north.std()\n",
        "\n",
        "n1 = len(data_south)\n",
        "n2 = len(data_north)"
      ]
    },
    {
      "cell_type": "code",
      "execution_count": 28,
      "metadata": {},
      "outputs": [
        {
          "data": {
            "text/plain": [
              "<Axes: >"
            ]
          },
          "execution_count": 28,
          "metadata": {},
          "output_type": "execute_result"
        },
        {
          "data": {
            "image/png": "[encoded data removed]",
            "text/plain": [
              "<Figure size 640x480 with 1 Axes>"
            ]
          },
          "metadata": {},
          "output_type": "display_data"
        },
        {
          "data": {
            "image/png": "[encoded data removed]",
            "text/plain": [
              "<Figure size 640x480 with 1 Axes>"
            ]
          },
          "metadata": {},
          "output_type": "display_data"
        }
      ],
      "source": [
        "# Visualise the distribution of the data (as histograms)\n",
        "\n",
        "# Set common x-limits for the histograms:\n",
        "# (using int() is a trick to round to the integer below)\n",
        "hist_min = int(min(min1,min2)) - 1\n",
        "hist_max = int(max(max1,max2)) + 2\n",
        "x_range = [hist_min, hist_max]\n",
        "\n",
        "# Set common y-limits for the histograms:\n",
        "y_range = [0,1]\n",
        "\n",
        "# Choose an appropriate number of columns for the histogram:\n",
        "# (This choice will give us columns of width 1)\n",
        "n_cols = hist_max - hist_min\n",
        "\n",
        "# Now create the plots:\n",
        "# (The plt.figure(x) functions create new plots preventing...\n",
        "# ... both histograms from being drawn on the same axes.)\n",
        "\n",
        "plt.figure(1)\n",
        "data_south.hist(range=x_range, bins=n_cols, density=True)\n",
        "plt.ylim(y_range)\n",
        "\n",
        "plt.figure(2)\n",
        "plt.ylim(y_range)\n",
        "data_north.hist(range=x_range, bins=n_cols, density=True)\n"
      ]
    },
    {
      "cell_type": "markdown",
      "metadata": {},
      "source": [
        "## Background using some synthetic data \n",
        "\n",
        "The department for Education wants to understand how maths ability varies across England. \n",
        "\n",
        "The data is the percent (%) of pupils passing Maths GCSE in schools across two regions of England. \n",
        "\n",
        "Region 1: 100 schools \n",
        "\n",
        "Region 2: 100 schools "
      ]
    },
    {
      "cell_type": "code",
      "execution_count": null,
      "metadata": {},
      "outputs": [],
      "source": [
        "# generate 100 samples from a normal distribution \n",
        "\n",
        "mean_1 = 70 \n",
        "std_1 = 8\n",
        "n_samples = 100\n",
        "sample_1 = sps.norm.rvs(loc=mean_1, scale=std_1, size=n_samples)\n",
        "# to two decimal places\n",
        "sample_1 = np.round(sample_1, 2)\n",
        "\n",
        "mean_2 = 72\n",
        "std_2 = 6\n",
        "sample_2 = sps.norm.rvs(loc=mean_2, scale=std_2, size=n_samples)    \n",
        "# to two decimal places\n",
        "sample_2 = np.round(sample_2, 2)"
      ]
    },
    {
      "cell_type": "code",
      "execution_count": 38,
      "metadata": {},
      "outputs": [
        {
          "data": {
            "text/html": [
              "<div>\n",
              "<style scoped>\n",
              "    .dataframe tbody tr th:only-of-type {\n",
              "        vertical-align: middle;\n",
              "    }\n",
              "\n",
              "    .dataframe tbody tr th {\n",
              "        vertical-align: top;\n",
              "    }\n",
              "\n",
              "    .dataframe thead th {\n",
              "        text-align: right;\n",
              "    }\n",
              "</style>\n",
              "<table border=\"1\" class=\"dataframe\">\n",
              "  <thead>\n",
              "    <tr style=\"text-align: right;\">\n",
              "      <th></th>\n",
              "      <th>region1</th>\n",
              "      <th>region2</th>\n",
              "    </tr>\n",
              "  </thead>\n",
              "  <tbody>\n",
              "    <tr>\n",
              "      <th>0</th>\n",
              "      <td>85.53</td>\n",
              "      <td>70.70</td>\n",
              "    </tr>\n",
              "    <tr>\n",
              "      <th>1</th>\n",
              "      <td>83.50</td>\n",
              "      <td>82.61</td>\n",
              "    </tr>\n",
              "    <tr>\n",
              "      <th>2</th>\n",
              "      <td>67.40</td>\n",
              "      <td>68.95</td>\n",
              "    </tr>\n",
              "    <tr>\n",
              "      <th>3</th>\n",
              "      <td>66.23</td>\n",
              "      <td>75.16</td>\n",
              "    </tr>\n",
              "    <tr>\n",
              "      <th>4</th>\n",
              "      <td>62.50</td>\n",
              "      <td>78.08</td>\n",
              "    </tr>\n",
              "  </tbody>\n",
              "</table>\n",
              "</div>"
            ],
            "text/plain": [
              "   region1  region2\n",
              "0    85.53    70.70\n",
              "1    83.50    82.61\n",
              "2    67.40    68.95\n",
              "3    66.23    75.16\n",
              "4    62.50    78.08"
            ]
          },
          "execution_count": 38,
          "metadata": {},
          "output_type": "execute_result"
        }
      ],
      "source": [
        "data = pd.DataFrame({'region1': sample_1, 'region2': sample_2})\n",
        "\n",
        "data.head()"
      ]
    },
    {
      "cell_type": "code",
      "execution_count": 39,
      "metadata": {},
      "outputs": [
        {
          "data": {
            "text/html": [
              "<div>\n",
              "<style scoped>\n",
              "    .dataframe tbody tr th:only-of-type {\n",
              "        vertical-align: middle;\n",
              "    }\n",
              "\n",
              "    .dataframe tbody tr th {\n",
              "        vertical-align: top;\n",
              "    }\n",
              "\n",
              "    .dataframe thead th {\n",
              "        text-align: right;\n",
              "    }\n",
              "</style>\n",
              "<table border=\"1\" class=\"dataframe\">\n",
              "  <thead>\n",
              "    <tr style=\"text-align: right;\">\n",
              "      <th></th>\n",
              "      <th>region1</th>\n",
              "      <th>region2</th>\n",
              "    </tr>\n",
              "  </thead>\n",
              "  <tbody>\n",
              "    <tr>\n",
              "      <th>count</th>\n",
              "      <td>100.000000</td>\n",
              "      <td>100.000000</td>\n",
              "    </tr>\n",
              "    <tr>\n",
              "      <th>mean</th>\n",
              "      <td>70.634900</td>\n",
              "      <td>72.116800</td>\n",
              "    </tr>\n",
              "    <tr>\n",
              "      <th>std</th>\n",
              "      <td>8.607044</td>\n",
              "      <td>7.310304</td>\n",
              "    </tr>\n",
              "    <tr>\n",
              "      <th>min</th>\n",
              "      <td>46.710000</td>\n",
              "      <td>51.710000</td>\n",
              "    </tr>\n",
              "    <tr>\n",
              "      <th>25%</th>\n",
              "      <td>65.380000</td>\n",
              "      <td>68.400000</td>\n",
              "    </tr>\n",
              "    <tr>\n",
              "      <th>50%</th>\n",
              "      <td>69.255000</td>\n",
              "      <td>72.700000</td>\n",
              "    </tr>\n",
              "    <tr>\n",
              "      <th>75%</th>\n",
              "      <td>76.895000</td>\n",
              "      <td>77.245000</td>\n",
              "    </tr>\n",
              "    <tr>\n",
              "      <th>max</th>\n",
              "      <td>90.460000</td>\n",
              "      <td>88.650000</td>\n",
              "    </tr>\n",
              "  </tbody>\n",
              "</table>\n",
              "</div>"
            ],
            "text/plain": [
              "          region1     region2\n",
              "count  100.000000  100.000000\n",
              "mean    70.634900   72.116800\n",
              "std      8.607044    7.310304\n",
              "min     46.710000   51.710000\n",
              "25%     65.380000   68.400000\n",
              "50%     69.255000   72.700000\n",
              "75%     76.895000   77.245000\n",
              "max     90.460000   88.650000"
            ]
          },
          "execution_count": 39,
          "metadata": {},
          "output_type": "execute_result"
        }
      ],
      "source": [
        "# For convenience...\n",
        "\n",
        "# Store each sample separately:\n",
        "region1 = data['region1']\n",
        "region2 = data['region2']\n",
        "\n",
        "# Store some useful values\n",
        "\n",
        "min1 = region1.min()\n",
        "min2 = region2.min()\n",
        "\n",
        "max1 = region1.max()\n",
        "max2 = region2.max()\n",
        "\n",
        "mean1 = region1.mean()\n",
        "mean2 = region2.mean()\n",
        "\n",
        "std1 = region1.std()\n",
        "std2 = region2.std()\n",
        "\n",
        "n1 = len(region1)\n",
        "n2 = len(region2)\n",
        "\n",
        "# And print some summary information:\n",
        "\n",
        "data.describe()"
      ]
    },
    {
      "cell_type": "code",
      "execution_count": 52,
      "metadata": {},
      "outputs": [
        {
          "data": {
            "text/plain": [
              "Text(0, 0.5, 'Frequency')"
            ]
          },
          "execution_count": 52,
          "metadata": {},
          "output_type": "execute_result"
        },
        {
          "data": {
            "image/png": "[encoded data removed]",
            "text/plain": [
              "<Figure size 640x480 with 1 Axes>"
            ]
          },
          "metadata": {},
          "output_type": "display_data"
        },
        {
          "data": {
            "image/png": "[encoded data removed]",
            "text/plain": [
              "<Figure size 640x480 with 1 Axes>"
            ]
          },
          "metadata": {},
          "output_type": "display_data"
        }
      ],
      "source": [
        "# Visualise the distribution of the data (as histograms)\n",
        "\n",
        "# Set common x-limits for the histograms:\n",
        "# (using int() is a trick to round to the integer below)\n",
        "hist_min = int(min(min1,min2)) - 1\n",
        "hist_max = int(max(max1,max2)) + 2\n",
        "x_range = [hist_min, hist_max]\n",
        "\n",
        "# Set common y-limits for the histograms:\n",
        "y_range = [0,12]\n",
        "\n",
        "# Choose an appropriate number of columns for the histogram:\n",
        "# (This choice will give us columns of width 1)\n",
        "n_cols = hist_max - hist_min\n",
        "\n",
        "# Now create the plots:\n",
        "# (The plt.figure(x) functions create new plots preventing...\n",
        "# ... both histograms from being drawn on the same axes.)\n",
        "\n",
        "# Note: you can set density=True in the hist() function to normalise the histogram\n",
        "# (This will make the area under the histogram equal to 1, which is useful for\n",
        "# comparing distributions.)\n",
        "\n",
        "plt.figure(1)\n",
        "data['region1'].hist(range=x_range, bins=n_cols)\n",
        "plt.ylim(y_range)\n",
        "plt.title('Region 1 Histogram')\n",
        "plt.xlabel('Scores')\n",
        "plt.ylabel('Frequency')\n",
        "\n",
        "plt.figure(2)\n",
        "plt.ylim(y_range)\n",
        "data['region2'].hist(range=x_range, bins=n_cols)\n",
        "plt.title('Region 2 Histogram')\n",
        "plt.xlabel('Scores')\n",
        "plt.ylabel('Frequency')\n"
      ]
    },
    {
      "cell_type": "markdown",
      "metadata": {
        "id": "bnEP-SGrDlZY"
      },
      "source": [
        "### Test 1 - Mean Comparison Test"
      ]
    },
    {
      "cell_type": "markdown",
      "metadata": {
        "id": "sxzQ0mEfDlZZ"
      },
      "source": [
        "The two samples have different means, but let's test whether this could be down to random chance.\n",
        "\n",
        "Could they be drawn from populations with the same mean?\n",
        "\n",
        "(The sample sizes (100) are fairly large so the mean comparison test is valid.)"
      ]
    },
    {
      "cell_type": "markdown",
      "metadata": {
        "id": "3qWmU1Y8DlZZ"
      },
      "source": [
        "Step 1"
      ]
    },
    {
      "cell_type": "code",
      "execution_count": 53,
      "metadata": {
        "collapsed": true,
        "id": "r7h-C8NJDlZZ"
      },
      "outputs": [],
      "source": [
        "# H0: Mean of population 1 =  Mean of population 1\n",
        "# H1: Mean of population 1 <> Mean of population 1"
      ]
    },
    {
      "cell_type": "markdown",
      "metadata": {
        "id": "1K49e3lhDlZZ"
      },
      "source": [
        "Step 2"
      ]
    },
    {
      "cell_type": "code",
      "execution_count": 54,
      "metadata": {
        "collapsed": true,
        "id": "Q4VWJVe4DlZa"
      },
      "outputs": [],
      "source": [
        "# Set significance level:\n",
        "\n",
        "alpha = 0.05"
      ]
    },
    {
      "cell_type": "markdown",
      "metadata": {
        "id": "419R3wELDlZa"
      },
      "source": [
        "Step 3-4"
      ]
    },
    {
      "cell_type": "code",
      "execution_count": 55,
      "metadata": {
        "colab": {
          "base_uri": "https://localhost:8080/"
        },
        "id": "z65MOHXpDlZa",
        "outputId": "df059cd4-588f-4440-a8e7-b2e7b2cea572"
      },
      "outputs": [
        {
          "name": "stdout",
          "output_type": "stream",
          "text": [
            "std_ratio = 1.177385157407103\n",
            "Can assume equal population standard deviations.\n"
          ]
        }
      ],
      "source": [
        "# There is a built-in scipy.stats function (ttest_ind) that does steps 3 and 4 for us.\n",
        "# We just need to know whether we can assume that the samples are drawn...\n",
        "# ... from populations with the same standard deviation or not.\n",
        "# (Provided neither standard deviation is double the other, this should be ok)\n",
        "\n",
        "std_ratio = std1/std2\n",
        "\n",
        "print(\"std_ratio =\", std_ratio)\n",
        "\n",
        "if std_ratio > 0.5 and std_ratio < 2:\n",
        "    print(\"Can assume equal population standard deviations.\")\n",
        "    equal_stds = True\n",
        "else:\n",
        "    print(\"Cannot assume equal population standard deviations.\")\n",
        "    equal_stds = False"
      ]
    },
    {
      "cell_type": "code",
      "execution_count": 57,
      "metadata": {
        "colab": {
          "base_uri": "https://localhost:8080/"
        },
        "id": "Oy9p9iJqDlZb",
        "outputId": "ce7496ba-bf80-49d9-d6b8-f460d0f8b8da"
      },
      "outputs": [
        {
          "name": "stdout",
          "output_type": "stream",
          "text": [
            "p-value = 0.1909446532744774\n"
          ]
        }
      ],
      "source": [
        "# Calculate the test statistic and the p-value:\n",
        "# There are two outputs from the function of sps.ttest_ind: the **test statistic** and the **p value**\n",
        "\n",
        "test_stat, p_value = sps.ttest_ind(region1, region2, equal_var = equal_stds)\n",
        "print(\"p-value =\", p_value)"
      ]
    },
    {
      "cell_type": "markdown",
      "metadata": {
        "id": "n6pZhgG9DlZb"
      },
      "source": [
        "Step 5"
      ]
    },
    {
      "cell_type": "code",
      "execution_count": 58,
      "metadata": {
        "colab": {
          "base_uri": "https://localhost:8080/"
        },
        "id": "JdKJ1WYgDlZb",
        "outputId": "45472f72-d11e-45f7-d062-7a9e229fb2d4",
        "scrolled": true
      },
      "outputs": [
        {
          "name": "stdout",
          "output_type": "stream",
          "text": [
            "p-value >= significance threshold.\n",
            "No significant evidence to reject H0.\n",
            "Assume samples are drawn from populations with the same mean.\n"
          ]
        }
      ],
      "source": [
        "# Reach a conclusion:\n",
        "\n",
        "if p_value < alpha:\n",
        "    print(\"p-value < significance threshold.\")\n",
        "    print(\"Reject H0. Accept H1.\")\n",
        "    print(\"Conclude that samples are drawn from populations with different means.\")\n",
        "elif p_value >= alpha:\n",
        "    print(\"p-value >= significance threshold.\")\n",
        "    print(\"No significant evidence to reject H0.\")\n",
        "    print(\"Assume samples are drawn from populations with the same mean.\")"
      ]
    },
    {
      "cell_type": "markdown",
      "metadata": {
        "id": "3aQMdDn0DlZc"
      },
      "source": [
        "### Test 2 - KS Distribution Test"
      ]
    },
    {
      "cell_type": "markdown",
      "metadata": {
        "id": "X7Qq9Nr3DlZc"
      },
      "source": [
        "What about the shape of the distributions?\n",
        "\n",
        "Could the visible difference in the distributions (see the histograms) be down to random chance?\n",
        "\n",
        "(The data is continuous, so the KS test is valid.)"
      ]
    },
    {
      "cell_type": "markdown",
      "metadata": {
        "id": "O5No4xckDlZc"
      },
      "source": [
        "Step 1"
      ]
    },
    {
      "cell_type": "code",
      "execution_count": null,
      "metadata": {
        "collapsed": true,
        "id": "njFp65ODDlZc"
      },
      "outputs": [],
      "source": [
        "# H0: Sample 1 and Sample 2 are drawn from identical distributions.\n",
        "# H1: Sample 1 and Sample 2 are not drawn from identical distributions."
      ]
    },
    {
      "cell_type": "markdown",
      "metadata": {
        "id": "V40a9Zq1DlZd"
      },
      "source": [
        "Step 2"
      ]
    },
    {
      "cell_type": "code",
      "execution_count": null,
      "metadata": {
        "collapsed": true,
        "id": "U1wetuTLDlZd"
      },
      "outputs": [],
      "source": [
        "# Set significance level:\n",
        "\n",
        "alpha = 0.05"
      ]
    },
    {
      "cell_type": "markdown",
      "metadata": {
        "id": "SZUS9pQmDlZd"
      },
      "source": [
        "Step 3-4"
      ]
    },
    {
      "cell_type": "code",
      "execution_count": 59,
      "metadata": {
        "colab": {
          "base_uri": "https://localhost:8080/"
        },
        "id": "Apq6RBn9DlZd",
        "outputId": "65222c50-cd59-4c93-c393-33e68c2ef7ca"
      },
      "outputs": [
        {
          "name": "stdout",
          "output_type": "stream",
          "text": [
            "KS stat = 0.2\n",
            "p-value = 0.03638428787491733\n"
          ]
        }
      ],
      "source": [
        "# There is a built-in scipy.stats function (ks_2samp) that does steps 3 and 4 for us:\n",
        "\n",
        "KS_stat, p_value = sps.ks_2samp(region1,region2)\n",
        "\n",
        "# Compare with the KS stat we calculated earlier:\n",
        "\n",
        "print(\"KS stat =\", KS_stat)\n",
        "print(\"p-value =\", p_value)"
      ]
    },
    {
      "cell_type": "markdown",
      "metadata": {
        "id": "LRBHBdD0DlZe"
      },
      "source": [
        "Step 5"
      ]
    },
    {
      "cell_type": "code",
      "execution_count": 60,
      "metadata": {
        "colab": {
          "base_uri": "https://localhost:8080/"
        },
        "id": "GYBng5qQDlZe",
        "outputId": "2b0c9142-79d7-4f5c-e144-70ccb247f3a1"
      },
      "outputs": [
        {
          "name": "stdout",
          "output_type": "stream",
          "text": [
            "p-value < significance threshold.\n",
            "Reject H0. Accept H1.\n",
            "Conclude that samples are drawn from populations with different distributions.\n"
          ]
        }
      ],
      "source": [
        "# Reach a conclusion:\n",
        "\n",
        "if p_value < alpha:\n",
        "    print(\"p-value < significance threshold.\")\n",
        "    print(\"Reject H0. Accept H1.\")\n",
        "    print(\"Conclude that samples are drawn from populations with different distributions.\")\n",
        "elif p_value >= alpha:\n",
        "    print(\"p-value >= significance threshold.\")\n",
        "    print(\"No significant evidence to reject H0.\")\n",
        "    print(\"Assume samples are drawn from populations with the same distribution.\")"
      ]
    },
    {
      "cell_type": "markdown",
      "metadata": {},
      "source": [
        "## Conclusions\n",
        "\n",
        "We have applied the mean comparison test and KS test to the schools data. \n",
        "\n",
        "Now, can you try these techniques to other datasets and describe your findings in the language of hypothesis testing? "
      ]
    },
    {
      "cell_type": "markdown",
      "metadata": {},
      "source": [
        "## Extension\n",
        "\n",
        "Mei is cycling into main campus to attend the lecture for CASA007. When she get's to UCL she can't find anywhere to park her bike. She's about to give up when she finds a space in the bike rack next to the print room cafe. She locks up and sprints over to her lecture. \n",
        "\n",
        "'How comes you're so late?' her friend Toby asks. \n",
        "\n",
        "'There was no space for me to lock my bike!' Mei replies. \n",
        "\n",
        "'Probably because students cycle more than the general London population!’ Toby replies. \n",
        "\n",
        "\n",
        "1. Come up with a suitable research hypothesis, and formally state it. \n",
        "\n",
        "2. Decide on a statistical test. \n",
        "\n",
        "3. Decide on a significance level. \n",
        "\n",
        "4. What would be the Type I and Type II error? \n",
        "\n",
        "5. What data could you use as evidence to test your hypothesis? \n"
      ]
    },
    {
      "cell_type": "markdown",
      "metadata": {},
      "source": [
        "## Credits\n",
        "### Contributors:\n",
        "The following individuals have contributed to these teaching materials: Thomas Evans, Hannah Fry, [Huanfa Chen](huanfa.chen@ucl.ac.uk), [Bea Taylor](https://github.com/Bea-Taylor)\n",
        "\n",
        "### License\n",
        "These teaching materials are licensed under a mix of The MIT License and the Creative Commons Attribution-NonCommercial-ShareAlike 4.0 license.\n",
        "\n",
        "### Acknowledgements\n",
        "NA\n",
        "\n",
        "### Dependencies\n",
        "This notebook depends on the following libraries: pandas, matplotlib, numpy, scipy"
      ]
    }
  ],
  "metadata": {
    "colab": {
      "collapsed_sections": [],
      "name": "hypothesis_test_examples.ipynb",
      "provenance": []
    },
    "kernelspec": {
      "display_name": "AI4CI_base_env",
      "language": "python",
      "name": "python3"
    },
    "language_info": {
      "codemirror_mode": {
        "name": "ipython",
        "version": 3
      },
      "file_extension": ".py",
      "mimetype": "text/x-python",
      "name": "python",
      "nbconvert_exporter": "python",
      "pygments_lexer": "ipython3",
      "version": "3.9.20"
    }
  },
  "nbformat": 4,
  "nbformat_minor": 0
}
